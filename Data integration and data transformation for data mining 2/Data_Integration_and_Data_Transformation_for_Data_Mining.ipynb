{
  "nbformat": 4,
  "nbformat_minor": 0,
  "metadata": {
    "colab": {
      "provenance": []
    },
    "kernelspec": {
      "name": "python3",
      "display_name": "Python 3"
    },
    "language_info": {
      "name": "python"
    }
  },
  "cells": [
    {
      "cell_type": "markdown",
      "source": [
        "Practical: Data Integration and Data Transformation for Data Mining"
      ],
      "metadata": {
        "id": "p_PtemUP9WA9"
      }
    },
    {
      "cell_type": "code",
      "execution_count": 1,
      "metadata": {
        "id": "3vkKA5l99OPf"
      },
      "outputs": [],
      "source": [
        "# Practical: Data Integration and Data Transformation for Data Mining\n",
        "\n",
        "import pandas as pd\n",
        "import numpy as np\n",
        "\n",
        "# Sample Datasets for Data Integration\n",
        "data_1 = {\n",
        "    'ID': [1, 2, 3, 4],\n",
        "    'Name': ['Alice', 'Bob', 'Charlie', 'David'],\n",
        "    'Age': [25, 30, 35, 40]\n",
        "}\n",
        "\n",
        "data_2 = {\n",
        "    'ID': [3, 4, 5, 6],\n",
        "    'Gender': ['F', 'M', 'M', 'F'],\n",
        "    'Salary': [70000, 80000, 50000, 60000]\n",
        "}\n",
        "\n",
        "df1 = pd.DataFrame(data_1)\n",
        "df2 = pd.DataFrame(data_2)\n",
        "\n"
      ]
    },
    {
      "cell_type": "code",
      "source": [
        "# Data Integration\n",
        "\n",
        "## Tight Coupling (Join datasets on a common key)\n",
        "tight_coupling = pd.merge(df1, df2, on='ID', how='inner')\n",
        "print(\"Tight Coupling Result:\\n\", tight_coupling)\n",
        "\n"
      ],
      "metadata": {
        "colab": {
          "base_uri": "https://localhost:8080/"
        },
        "id": "Asx1HhbM9e9C",
        "outputId": "caffe9c5-52f3-4f36-9045-c891b991b20a"
      },
      "execution_count": 2,
      "outputs": [
        {
          "output_type": "stream",
          "name": "stdout",
          "text": [
            "Tight Coupling Result:\n",
            "    ID     Name  Age Gender  Salary\n",
            "0   3  Charlie   35      F   70000\n",
            "1   4    David   40      M   80000\n"
          ]
        }
      ]
    },
    {
      "cell_type": "code",
      "source": [
        "## Loose Coupling (Concatenate datasets)\n",
        "loose_coupling = pd.concat([df1.set_index('ID'), df2.set_index('ID')], axis=1).reset_index()\n",
        "print(\"Loose Coupling Result:\\n\", loose_coupling)\n",
        "\n"
      ],
      "metadata": {
        "colab": {
          "base_uri": "https://localhost:8080/"
        },
        "id": "KBVOKRPy9knb",
        "outputId": "c809cc0a-107e-429e-b79e-0bf893b3fc94"
      },
      "execution_count": 3,
      "outputs": [
        {
          "output_type": "stream",
          "name": "stdout",
          "text": [
            "Loose Coupling Result:\n",
            "    ID     Name   Age Gender   Salary\n",
            "0   1    Alice  25.0    NaN      NaN\n",
            "1   2      Bob  30.0    NaN      NaN\n",
            "2   3  Charlie  35.0      F  70000.0\n",
            "3   4    David  40.0      M  80000.0\n",
            "4   5      NaN   NaN      M  50000.0\n",
            "5   6      NaN   NaN      F  60000.0\n"
          ]
        }
      ]
    },
    {
      "cell_type": "code",
      "source": [
        "# Data Transformation\n",
        "\n",
        "## Smoothing (Moving Average for Age)\n",
        "loose_coupling['Smoothed_Age'] = loose_coupling['Age'].rolling(window=2, min_periods=1).mean()\n",
        "print(\"\\nSmoothing:\\n\", loose_coupling[['ID', 'Age', 'Smoothed_Age']])\n",
        "\n"
      ],
      "metadata": {
        "colab": {
          "base_uri": "https://localhost:8080/"
        },
        "id": "WNc59IUs9qY3",
        "outputId": "63b4f99d-1d6d-4137-e77b-22afcf5e10a9"
      },
      "execution_count": 4,
      "outputs": [
        {
          "output_type": "stream",
          "name": "stdout",
          "text": [
            "\n",
            "Smoothing:\n",
            "    ID   Age  Smoothed_Age\n",
            "0   1  25.0          25.0\n",
            "1   2  30.0          27.5\n",
            "2   3  35.0          32.5\n",
            "3   4  40.0          37.5\n",
            "4   5   NaN          40.0\n",
            "5   6   NaN           NaN\n"
          ]
        }
      ]
    },
    {
      "cell_type": "code",
      "source": [
        "## Aggregation (Summarizing Salary by Gender)\n",
        "aggregation = loose_coupling.groupby('Gender')['Salary'].sum().reset_index()\n",
        "print(\"\\nAggregation:\\n\", aggregation)\n",
        "\n"
      ],
      "metadata": {
        "colab": {
          "base_uri": "https://localhost:8080/"
        },
        "id": "vn5Q1odc9xcq",
        "outputId": "2e06e345-e029-42bf-a71e-90fd3781ce62"
      },
      "execution_count": 5,
      "outputs": [
        {
          "output_type": "stream",
          "name": "stdout",
          "text": [
            "\n",
            "Aggregation:\n",
            "   Gender    Salary\n",
            "0      F  130000.0\n",
            "1      M  130000.0\n"
          ]
        }
      ]
    },
    {
      "cell_type": "code",
      "source": [
        "## Discretization (Binning Age into Categories)\n",
        "bins = [0, 20, 30, 40, 50]\n",
        "labels = ['Teen', 'Young Adult', 'Adult', 'Senior']\n",
        "loose_coupling['Age_Group'] = pd.cut(loose_coupling['Age'], bins=bins, labels=labels)\n",
        "print(\"\\nDiscretization:\\n\", loose_coupling[['ID', 'Age', 'Age_Group']])\n"
      ],
      "metadata": {
        "colab": {
          "base_uri": "https://localhost:8080/"
        },
        "id": "ds3TiShm90H0",
        "outputId": "642b9d37-f6b0-408e-8439-cf3f6cb1461f"
      },
      "execution_count": 6,
      "outputs": [
        {
          "output_type": "stream",
          "name": "stdout",
          "text": [
            "\n",
            "Discretization:\n",
            "    ID   Age    Age_Group\n",
            "0   1  25.0  Young Adult\n",
            "1   2  30.0  Young Adult\n",
            "2   3  35.0        Adult\n",
            "3   4  40.0        Adult\n",
            "4   5   NaN          NaN\n",
            "5   6   NaN          NaN\n"
          ]
        }
      ]
    },
    {
      "cell_type": "code",
      "source": [
        "## Attribute Construction (Creating Age-Salary Ratio)\n",
        "loose_coupling['Age_Salary_Ratio'] = loose_coupling['Age'] / loose_coupling['Salary']\n",
        "print(\"\\nAttribute Construction:\\n\", loose_coupling[['ID', 'Age', 'Salary', 'Age_Salary_Ratio']])\n",
        "\n"
      ],
      "metadata": {
        "colab": {
          "base_uri": "https://localhost:8080/"
        },
        "id": "r80dLQbn93V6",
        "outputId": "b67ffaa9-4c95-4eb9-854d-e034eed25c2e"
      },
      "execution_count": 7,
      "outputs": [
        {
          "output_type": "stream",
          "name": "stdout",
          "text": [
            "\n",
            "Attribute Construction:\n",
            "    ID   Age   Salary  Age_Salary_Ratio\n",
            "0   1  25.0      NaN               NaN\n",
            "1   2  30.0      NaN               NaN\n",
            "2   3  35.0  70000.0            0.0005\n",
            "3   4  40.0  80000.0            0.0005\n",
            "4   5   NaN  50000.0               NaN\n",
            "5   6   NaN  60000.0               NaN\n"
          ]
        }
      ]
    },
    {
      "cell_type": "code",
      "source": [
        "## Generalization (Simplifying Salary into Ranges)\n",
        "salary_bins = [0, 60000, 80000, 100000]\n",
        "salary_labels = ['Low', 'Medium', 'High']\n",
        "loose_coupling['Salary_Range'] = pd.cut(loose_coupling['Salary'], bins=salary_bins, labels=salary_labels)\n",
        "print(\"\\nGeneralization:\\n\", loose_coupling[['ID', 'Salary', 'Salary_Range']])\n"
      ],
      "metadata": {
        "colab": {
          "base_uri": "https://localhost:8080/"
        },
        "id": "xVhjn2xN96_5",
        "outputId": "294f622e-4ce3-4af2-ea54-d58458dc0397"
      },
      "execution_count": 8,
      "outputs": [
        {
          "output_type": "stream",
          "name": "stdout",
          "text": [
            "\n",
            "Generalization:\n",
            "    ID   Salary Salary_Range\n",
            "0   1      NaN          NaN\n",
            "1   2      NaN          NaN\n",
            "2   3  70000.0       Medium\n",
            "3   4  80000.0       Medium\n",
            "4   5  50000.0          Low\n",
            "5   6  60000.0          Low\n"
          ]
        }
      ]
    },
    {
      "cell_type": "code",
      "source": [
        "## Normalization\n",
        "\n",
        "### Min-Max Normalization\n",
        "loose_coupling['Age_MinMax'] = (loose_coupling['Age'] - loose_coupling['Age'].min()) / (loose_coupling['Age'].max() - loose_coupling['Age'].min())\n",
        "print(\"\\nMin-Max Normalization:\\n\", loose_coupling[['ID', 'Age', 'Age_MinMax']])\n"
      ],
      "metadata": {
        "colab": {
          "base_uri": "https://localhost:8080/"
        },
        "id": "a7qM1aM-99-E",
        "outputId": "37fa5394-2fd9-4b3a-c9ee-1c875d267c53"
      },
      "execution_count": 9,
      "outputs": [
        {
          "output_type": "stream",
          "name": "stdout",
          "text": [
            "\n",
            "Min-Max Normalization:\n",
            "    ID   Age  Age_MinMax\n",
            "0   1  25.0    0.000000\n",
            "1   2  30.0    0.333333\n",
            "2   3  35.0    0.666667\n",
            "3   4  40.0    1.000000\n",
            "4   5   NaN         NaN\n",
            "5   6   NaN         NaN\n"
          ]
        }
      ]
    },
    {
      "cell_type": "code",
      "source": [
        "### Z-Score Normalization\n",
        "loose_coupling['Age_ZScore'] = (loose_coupling['Age'] - loose_coupling['Age'].mean()) / loose_coupling['Age'].std()\n",
        "print(\"\\nZ-Score Normalization:\\n\", loose_coupling[['ID', 'Age', 'Age_ZScore']])\n"
      ],
      "metadata": {
        "colab": {
          "base_uri": "https://localhost:8080/"
        },
        "id": "Spnqw0T49_vl",
        "outputId": "d4190250-0ae5-4ea9-ac2c-2c5140bd1884"
      },
      "execution_count": 10,
      "outputs": [
        {
          "output_type": "stream",
          "name": "stdout",
          "text": [
            "\n",
            "Z-Score Normalization:\n",
            "    ID   Age  Age_ZScore\n",
            "0   1  25.0   -1.161895\n",
            "1   2  30.0   -0.387298\n",
            "2   3  35.0    0.387298\n",
            "3   4  40.0    1.161895\n",
            "4   5   NaN         NaN\n",
            "5   6   NaN         NaN\n"
          ]
        }
      ]
    },
    {
      "cell_type": "code",
      "source": [
        "### Decimal Scaling\n",
        "scaling_factor = 10 ** np.ceil(np.log10(loose_coupling['Age'].abs().max()))\n",
        "loose_coupling['Age_DecimalScaling'] = loose_coupling['Age'] / scaling_factor\n",
        "print(\"\\nDecimal Scaling:\\n\", loose_coupling[['ID', 'Age', 'Age_DecimalScaling']])\n"
      ],
      "metadata": {
        "colab": {
          "base_uri": "https://localhost:8080/"
        },
        "id": "Fe9-2GRl-Bdc",
        "outputId": "b01abd45-6b58-45ef-d7f3-25cc472d3c94"
      },
      "execution_count": 11,
      "outputs": [
        {
          "output_type": "stream",
          "name": "stdout",
          "text": [
            "\n",
            "Decimal Scaling:\n",
            "    ID   Age  Age_DecimalScaling\n",
            "0   1  25.0                0.25\n",
            "1   2  30.0                0.30\n",
            "2   3  35.0                0.35\n",
            "3   4  40.0                0.40\n",
            "4   5   NaN                 NaN\n",
            "5   6   NaN                 NaN\n"
          ]
        }
      ]
    },
    {
      "cell_type": "code",
      "source": [],
      "metadata": {
        "id": "yPrX5WGh-CNf"
      },
      "execution_count": null,
      "outputs": []
    }
  ]
}
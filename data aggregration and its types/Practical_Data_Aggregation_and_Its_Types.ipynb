{
  "nbformat": 4,
  "nbformat_minor": 0,
  "metadata": {
    "colab": {
      "provenance": []
    },
    "kernelspec": {
      "name": "python3",
      "display_name": "Python 3"
    },
    "language_info": {
      "name": "python"
    }
  },
  "cells": [
    {
      "cell_type": "markdown",
      "source": [
        "Practical: Data Aggregation and Its Types with Time and Spatial Aggregation in Data Mining"
      ],
      "metadata": {
        "id": "dFZlOpdNGYwA"
      }
    },
    {
      "cell_type": "code",
      "execution_count": 1,
      "metadata": {
        "id": "9-JwUJC6GVdf"
      },
      "outputs": [],
      "source": [
        "import pandas as pd\n",
        "\n",
        "# Step 1: Create Sample Dataset\n",
        "data = {\n",
        "    'Region': ['North', 'South', 'East', 'West', 'North', 'South', 'East', 'West'],\n",
        "    'Product': ['A', 'B', 'A', 'B', 'C', 'C', 'B', 'A'],\n",
        "    'Sales': [150, 200, 300, 400, 250, 180, 220, 310],\n",
        "    'Quantity': [10, 15, 20, 25, 12, 14, 16, 18],\n",
        "}\n"
      ]
    },
    {
      "cell_type": "code",
      "source": [
        "df = pd.DataFrame(data)\n",
        "print(\"Sample Dataset:\\n\", df)\n"
      ],
      "metadata": {
        "colab": {
          "base_uri": "https://localhost:8080/"
        },
        "id": "8QCTnUWmGeJC",
        "outputId": "cc19e27e-f50c-4e9d-e3fd-6dd4a4787b8e"
      },
      "execution_count": 2,
      "outputs": [
        {
          "output_type": "stream",
          "name": "stdout",
          "text": [
            "Sample Dataset:\n",
            "   Region Product  Sales  Quantity\n",
            "0  North       A    150        10\n",
            "1  South       B    200        15\n",
            "2   East       A    300        20\n",
            "3   West       B    400        25\n",
            "4  North       C    250        12\n",
            "5  South       C    180        14\n",
            "6   East       B    220        16\n",
            "7   West       A    310        18\n"
          ]
        }
      ]
    },
    {
      "cell_type": "code",
      "source": [
        "# Step 2: Grouping and Aggregation\n",
        "# Aggregating Sales by Region (Sum Aggregation)\n",
        "sales_by_region = df.groupby('Region')['Sales'].sum()\n",
        "print(\"\\nTotal Sales by Region:\\n\", sales_by_region)\n"
      ],
      "metadata": {
        "colab": {
          "base_uri": "https://localhost:8080/"
        },
        "id": "i8HaTDGbGgw3",
        "outputId": "5d1156de-861d-4387-f49d-26d0a075e414"
      },
      "execution_count": 3,
      "outputs": [
        {
          "output_type": "stream",
          "name": "stdout",
          "text": [
            "\n",
            "Total Sales by Region:\n",
            " Region\n",
            "East     520\n",
            "North    400\n",
            "South    380\n",
            "West     710\n",
            "Name: Sales, dtype: int64\n"
          ]
        }
      ]
    },
    {
      "cell_type": "code",
      "source": [
        "# Aggregating Sales and Quantity by Product (Mean Aggregation)\n",
        "mean_by_product = df.groupby('Product')[['Sales', 'Quantity']].mean()\n",
        "print(\"\\nMean Sales and Quantity by Product:\\n\", mean_by_product)\n"
      ],
      "metadata": {
        "colab": {
          "base_uri": "https://localhost:8080/"
        },
        "id": "grvLvEueGlc-",
        "outputId": "c9804760-9143-4e86-9ac4-acd803f80f48"
      },
      "execution_count": 4,
      "outputs": [
        {
          "output_type": "stream",
          "name": "stdout",
          "text": [
            "\n",
            "Mean Sales and Quantity by Product:\n",
            "               Sales   Quantity\n",
            "Product                       \n",
            "A        253.333333  16.000000\n",
            "B        273.333333  18.666667\n",
            "C        215.000000  13.000000\n"
          ]
        }
      ]
    },
    {
      "cell_type": "code",
      "source": [
        "# Aggregating Count of Sales by Region (Count Aggregation)\n",
        "count_by_region = df.groupby('Region')['Sales'].count()\n",
        "print(\"\\nCount of Sales Records by Region:\\n\", count_by_region)\n"
      ],
      "metadata": {
        "colab": {
          "base_uri": "https://localhost:8080/"
        },
        "id": "msppzW9NGoUZ",
        "outputId": "a2e0c5ad-68d6-4530-dd67-f9d3bd59892e"
      },
      "execution_count": 5,
      "outputs": [
        {
          "output_type": "stream",
          "name": "stdout",
          "text": [
            "\n",
            "Count of Sales Records by Region:\n",
            " Region\n",
            "East     2\n",
            "North    2\n",
            "South    2\n",
            "West     2\n",
            "Name: Sales, dtype: int64\n"
          ]
        }
      ]
    },
    {
      "cell_type": "code",
      "source": [
        "# Custom Aggregation: Calculate Min and Max Sales by Region\n",
        "custom_aggregation = df.groupby('Region')['Sales'].agg(['min', 'max'])\n",
        "print(\"\\nCustom Aggregation (Min and Max Sales by Region):\\n\", custom_aggregation)\n"
      ],
      "metadata": {
        "colab": {
          "base_uri": "https://localhost:8080/"
        },
        "id": "kymNYDsvGqRx",
        "outputId": "69728439-fd71-460f-98f3-86972147fd9c"
      },
      "execution_count": 6,
      "outputs": [
        {
          "output_type": "stream",
          "name": "stdout",
          "text": [
            "\n",
            "Custom Aggregation (Min and Max Sales by Region):\n",
            "         min  max\n",
            "Region          \n",
            "East    220  300\n",
            "North   150  250\n",
            "South   180  200\n",
            "West    310  400\n"
          ]
        }
      ]
    },
    {
      "cell_type": "code",
      "source": [
        "# Step 3: Multi-Level Aggregation\n",
        "# Aggregating Sales by Region and Product\n",
        "multi_level_agg = df.groupby(['Region', 'Product'])['Sales'].sum()\n",
        "print(\"\\nSales by Region and Product:\\n\", multi_level_agg)\n"
      ],
      "metadata": {
        "colab": {
          "base_uri": "https://localhost:8080/"
        },
        "id": "E31jd1NBGsI_",
        "outputId": "e6fdd96d-db1d-4726-e075-eccd646fc36d"
      },
      "execution_count": 7,
      "outputs": [
        {
          "output_type": "stream",
          "name": "stdout",
          "text": [
            "\n",
            "Sales by Region and Product:\n",
            " Region  Product\n",
            "East    A          300\n",
            "        B          220\n",
            "North   A          150\n",
            "        C          250\n",
            "South   B          200\n",
            "        C          180\n",
            "West    A          310\n",
            "        B          400\n",
            "Name: Sales, dtype: int64\n"
          ]
        }
      ]
    },
    {
      "cell_type": "code",
      "source": [
        "# Step 4: Reset Index for Multi-Level Aggregation\n",
        "multi_level_agg_reset = multi_level_agg.reset_index()\n",
        "print(\"\\nSales by Region and Product (Reset Index):\\n\", multi_level_agg_reset)\n"
      ],
      "metadata": {
        "colab": {
          "base_uri": "https://localhost:8080/"
        },
        "id": "BGF3DvbgGt9F",
        "outputId": "1d1e6c3a-72af-4b21-bcb6-b08ea50e024e"
      },
      "execution_count": 8,
      "outputs": [
        {
          "output_type": "stream",
          "name": "stdout",
          "text": [
            "\n",
            "Sales by Region and Product (Reset Index):\n",
            "   Region Product  Sales\n",
            "0   East       A    300\n",
            "1   East       B    220\n",
            "2  North       A    150\n",
            "3  North       C    250\n",
            "4  South       B    200\n",
            "5  South       C    180\n",
            "6   West       A    310\n",
            "7   West       B    400\n"
          ]
        }
      ]
    },
    {
      "cell_type": "markdown",
      "source": [
        "Objective:\n",
        "\n",
        "To understand and implement:\n",
        "\n",
        "Time Aggregation: Aggregating data over different time periods (e.g., monthly, yearly).\n",
        "\n",
        "Spatial Aggregation: Aggregating data by spatial attributes (e.g., by region, city)."
      ],
      "metadata": {
        "id": "-15rWVQdHBh4"
      }
    },
    {
      "cell_type": "code",
      "source": [
        "import pandas as pd\n",
        "\n",
        "# Step 1: Extend Dataset with Time and Spatial Data\n",
        "data = {\n",
        "    'Region': ['North', 'South', 'East', 'West', 'North', 'South', 'East', 'West'],\n",
        "    'City': ['City1', 'City2', 'City3', 'City4', 'City1', 'City2', 'City3', 'City4'],\n",
        "    'Product': ['A', 'B', 'A', 'B', 'C', 'C', 'B', 'A'],\n",
        "    'Sales': [150, 200, 300, 400, 250, 180, 220, 310],\n",
        "    'Quantity': [10, 15, 20, 25, 12, 14, 16, 18],\n",
        "    'Date': pd.to_datetime(['2024-01-01', '2024-01-02', '2024-02-01', '2024-02-03',\n",
        "                            '2024-03-01', '2024-03-02', '2024-04-01', '2024-04-03'])\n",
        "}\n",
        "\n"
      ],
      "metadata": {
        "id": "E2CLQQs5GyGh"
      },
      "execution_count": 9,
      "outputs": []
    },
    {
      "cell_type": "code",
      "source": [
        "df = pd.DataFrame(data)\n",
        "print(\"Extended Dataset:\\n\", df)\n"
      ],
      "metadata": {
        "colab": {
          "base_uri": "https://localhost:8080/"
        },
        "id": "2l_gLptiHMLT",
        "outputId": "4b729887-5719-4b36-8ce4-8485f7ea5ebc"
      },
      "execution_count": 10,
      "outputs": [
        {
          "output_type": "stream",
          "name": "stdout",
          "text": [
            "Extended Dataset:\n",
            "   Region   City Product  Sales  Quantity       Date\n",
            "0  North  City1       A    150        10 2024-01-01\n",
            "1  South  City2       B    200        15 2024-01-02\n",
            "2   East  City3       A    300        20 2024-02-01\n",
            "3   West  City4       B    400        25 2024-02-03\n",
            "4  North  City1       C    250        12 2024-03-01\n",
            "5  South  City2       C    180        14 2024-03-02\n",
            "6   East  City3       B    220        16 2024-04-01\n",
            "7   West  City4       A    310        18 2024-04-03\n"
          ]
        }
      ]
    },
    {
      "cell_type": "code",
      "source": [
        "# -----------------------------\n",
        "# Time Aggregation\n",
        "# -----------------------------\n",
        "\n",
        "# Step 2: Set Date Column as Index (optional)\n",
        "df.set_index('Date', inplace=True)\n"
      ],
      "metadata": {
        "id": "kbQbmz7eHOaB"
      },
      "execution_count": 11,
      "outputs": []
    },
    {
      "cell_type": "code",
      "source": [
        "# Aggregating Sales by Month\n",
        "monthly_sales = df.resample('M')['Sales'].sum()\n",
        "print(\"\\nTotal Sales by Month:\\n\", monthly_sales)\n"
      ],
      "metadata": {
        "colab": {
          "base_uri": "https://localhost:8080/"
        },
        "id": "vIaAUdalHSms",
        "outputId": "fed0a522-abc2-43cd-9d45-8a69aad4b255"
      },
      "execution_count": 12,
      "outputs": [
        {
          "output_type": "stream",
          "name": "stdout",
          "text": [
            "\n",
            "Total Sales by Month:\n",
            " Date\n",
            "2024-01-31    350\n",
            "2024-02-29    700\n",
            "2024-03-31    430\n",
            "2024-04-30    530\n",
            "Freq: ME, Name: Sales, dtype: int64\n"
          ]
        },
        {
          "output_type": "stream",
          "name": "stderr",
          "text": [
            "<ipython-input-12-a84b086d50b4>:2: FutureWarning: 'M' is deprecated and will be removed in a future version, please use 'ME' instead.\n",
            "  monthly_sales = df.resample('M')['Sales'].sum()\n"
          ]
        }
      ]
    },
    {
      "cell_type": "code",
      "source": [
        "# Aggregating Sales by Quarter\n",
        "quarterly_sales = df.resample('Q')['Sales'].sum()\n",
        "print(\"\\nTotal Sales by Quarter:\\n\", quarterly_sales)\n"
      ],
      "metadata": {
        "colab": {
          "base_uri": "https://localhost:8080/"
        },
        "id": "JBsb4NnVHUwC",
        "outputId": "30c0f0e7-a051-40f4-bdc2-473a7013fc55"
      },
      "execution_count": 13,
      "outputs": [
        {
          "output_type": "stream",
          "name": "stdout",
          "text": [
            "\n",
            "Total Sales by Quarter:\n",
            " Date\n",
            "2024-03-31    1480\n",
            "2024-06-30     530\n",
            "Freq: QE-DEC, Name: Sales, dtype: int64\n"
          ]
        },
        {
          "output_type": "stream",
          "name": "stderr",
          "text": [
            "<ipython-input-13-5bdcfef9d490>:2: FutureWarning: 'Q' is deprecated and will be removed in a future version, please use 'QE' instead.\n",
            "  quarterly_sales = df.resample('Q')['Sales'].sum()\n"
          ]
        }
      ]
    },
    {
      "cell_type": "code",
      "source": [
        "# Aggregating Sales by Year\n",
        "yearly_sales = df.resample('Y')['Sales'].sum()\n",
        "print(\"\\nTotal Sales by Year:\\n\", yearly_sales)\n"
      ],
      "metadata": {
        "colab": {
          "base_uri": "https://localhost:8080/"
        },
        "id": "qgtzpGoNHWb8",
        "outputId": "bff8cc81-ffbb-4d51-e7cd-27b0fd05eee3"
      },
      "execution_count": 14,
      "outputs": [
        {
          "output_type": "stream",
          "name": "stdout",
          "text": [
            "\n",
            "Total Sales by Year:\n",
            " Date\n",
            "2024-12-31    2010\n",
            "Freq: YE-DEC, Name: Sales, dtype: int64\n"
          ]
        },
        {
          "output_type": "stream",
          "name": "stderr",
          "text": [
            "<ipython-input-14-23e147066a0d>:2: FutureWarning: 'Y' is deprecated and will be removed in a future version, please use 'YE' instead.\n",
            "  yearly_sales = df.resample('Y')['Sales'].sum()\n"
          ]
        }
      ]
    },
    {
      "cell_type": "code",
      "source": [
        "# Reset Index to Restore Original Structure\n",
        "df.reset_index(inplace=True)\n",
        "\n"
      ],
      "metadata": {
        "id": "hjcGFO0gHavh"
      },
      "execution_count": 15,
      "outputs": []
    },
    {
      "cell_type": "code",
      "source": [
        "# -----------------------------\n",
        "# Spatial Aggregation\n",
        "# -----------------------------\n",
        "\n",
        "# Step 3: Aggregating Sales by Region\n",
        "sales_by_region = df.groupby('Region')['Sales'].sum()\n",
        "print(\"\\nTotal Sales by Region:\\n\", sales_by_region)\n",
        "\n"
      ],
      "metadata": {
        "colab": {
          "base_uri": "https://localhost:8080/"
        },
        "id": "qyZe91x7HciJ",
        "outputId": "87df1b97-3bb6-4233-f7ba-0fbae985d6a4"
      },
      "execution_count": 16,
      "outputs": [
        {
          "output_type": "stream",
          "name": "stdout",
          "text": [
            "\n",
            "Total Sales by Region:\n",
            " Region\n",
            "East     520\n",
            "North    400\n",
            "South    380\n",
            "West     710\n",
            "Name: Sales, dtype: int64\n"
          ]
        }
      ]
    },
    {
      "cell_type": "code",
      "source": [
        "# Aggregating Sales by City\n",
        "sales_by_city = df.groupby('City')['Sales'].sum()\n",
        "print(\"\\nTotal Sales by City:\\n\", sales_by_city)\n"
      ],
      "metadata": {
        "colab": {
          "base_uri": "https://localhost:8080/"
        },
        "id": "7HXIQsR4HeEy",
        "outputId": "dc471181-f219-48cb-9cac-0f0ae6661d33"
      },
      "execution_count": 17,
      "outputs": [
        {
          "output_type": "stream",
          "name": "stdout",
          "text": [
            "\n",
            "Total Sales by City:\n",
            " City\n",
            "City1    400\n",
            "City2    380\n",
            "City3    520\n",
            "City4    710\n",
            "Name: Sales, dtype: int64\n"
          ]
        }
      ]
    },
    {
      "cell_type": "code",
      "source": [
        "# Aggregating Sales by Region and City\n",
        "sales_by_region_city = df.groupby(['Region', 'City'])['Sales'].sum()\n",
        "print(\"\\nTotal Sales by Region and City:\\n\", sales_by_region_city)\n"
      ],
      "metadata": {
        "colab": {
          "base_uri": "https://localhost:8080/"
        },
        "id": "0A3aOVrHHqAL",
        "outputId": "fee20e59-7da5-47da-8bb6-8174561719cb"
      },
      "execution_count": 18,
      "outputs": [
        {
          "output_type": "stream",
          "name": "stdout",
          "text": [
            "\n",
            "Total Sales by Region and City:\n",
            " Region  City \n",
            "East    City3    520\n",
            "North   City1    400\n",
            "South   City2    380\n",
            "West    City4    710\n",
            "Name: Sales, dtype: int64\n"
          ]
        }
      ]
    },
    {
      "cell_type": "code",
      "source": [
        "# Step 4: Export Spatial Aggregation Results\n",
        "sales_by_region_city_reset = sales_by_region_city.reset_index()\n",
        "\n",
        "#sales_by_region_city_reset.to_csv(\"spatial_aggregation.csv\", index=False)\n",
        "#print(\"\\nSpatial aggregation data saved to 'spatial_aggregation.csv'\")"
      ],
      "metadata": {
        "id": "DW5nMw2cHsO3"
      },
      "execution_count": 19,
      "outputs": []
    },
    {
      "cell_type": "code",
      "source": [],
      "metadata": {
        "id": "O09JWVvtH0eF"
      },
      "execution_count": null,
      "outputs": []
    }
  ]
}
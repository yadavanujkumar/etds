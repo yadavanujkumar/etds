{
  "nbformat": 4,
  "nbformat_minor": 0,
  "metadata": {
    "colab": {
      "provenance": []
    },
    "kernelspec": {
      "name": "python3",
      "display_name": "Python 3"
    },
    "language_info": {
      "name": "python"
    }
  },
  "cells": [
    {
      "cell_type": "markdown",
      "source": [
        "**How to Handle Imbalanced Classes in Data Mining?**\n",
        "\n",
        "In data mining or ML, “imbalanced classes” is a familiar problem particularly occurring in classification when we have datasets with an unequal ratio of data points in each class.\n",
        "\n",
        "Training of model becomes much trickier as typical accuracy is no longer a reliable metric for measuring the performance of the model. Now if the number of data points in minority class is much less, then it may end up being completely ignored during training.\n",
        "\n",
        "**Problems with the imbalanced data**\n",
        "\n",
        "Unbalanced class distributions present a barrier, even though many machine learning algorithms work best when there are nearly equal numbers of samples in each class. A model may appear to have high accuracy in these situations if it primarily predicts the majority class. In such cases, having high accuracy becomes deceptive. Sadly, the minority class—which is frequently the main focus of model creation—is ignored by this strategy. In the event that 99% of the data pertains to the majority class, for example, simple classification models such as logistic regression or decision trees may find it difficult to recognize and precisely forecast occurrences from the minority class."
      ],
      "metadata": {
        "id": "dBYyO0EqGwhf"
      }
    },
    {
      "cell_type": "markdown",
      "source": [
        "**Class Imbalance Handling**\n",
        "\n",
        "Resampling, which modifies the sample distribution, is a frequently used technique for handling very unbalanced datasets. This can be accomplished by either over-sampling, which adds more examples from the minority class, or under-sampling, which removes samples from the majority class. One method for reducing the difficulties caused by severely skewed datasets is resampling, which balances the class distribution.\n",
        "\n",
        "Using strategies like over- and under-sampling to balance classes has advantages, but there are also disadvantages.\n",
        "\n",
        "A fundamental method of over-sampling is to replicate random records from the minority class, which may cause overfitting.\n",
        "\n"
      ],
      "metadata": {
        "id": "BGKZIdK3HYL3"
      }
    },
    {
      "cell_type": "markdown",
      "source": [
        "In Up-sampling, samples from minority classes are randomly duplicated so as to achieve equivalence with the majority class. There are many methods used for achieving this.\n",
        "\n",
        "1. Using Random Under-Sampling\n",
        "When observations from the majority class are eliminated until the majority and minority classes are balanced, this is known as undersampling.\n",
        "\n",
        "Undersampling has advantages when working with large datasets, especially ones with millions of rows, but there is a risk that important information will be lost during the removal process."
      ],
      "metadata": {
        "id": "jnNwBA4LHlQX"
      }
    },
    {
      "cell_type": "code",
      "execution_count": 1,
      "metadata": {
        "colab": {
          "base_uri": "https://localhost:8080/"
        },
        "id": "IJY5gb5bGvCt",
        "outputId": "8ba28d02-b8ef-4495-ef69-35fb1165f768"
      },
      "outputs": [
        {
          "output_type": "stream",
          "name": "stdout",
          "text": [
            "    feature_1  feature_2  feature_3  feature_4  balance\n",
            "0   -1.053839  -1.027544  -0.329294   0.826007        1\n",
            "1    1.569317   1.306542  -0.239385  -0.331376        0\n",
            "2   -0.658926  -0.357633   0.723682  -0.628277        0\n",
            "3   -0.136856   0.460938   1.896911  -2.281386        0\n",
            "4   -0.048629   0.502301   1.778730  -2.171053        0\n",
            "..        ...        ...        ...        ...      ...\n",
            "95  -2.241820  -1.248690   2.357902  -2.009185        0\n",
            "96   0.573042   0.362054  -0.462814   0.341294        1\n",
            "97  -0.375121  -0.149518   0.588465  -0.575002        0\n",
            "98   1.042518   1.058239   0.461945  -0.984846        0\n",
            "99  -0.121203  -0.043997   0.204211  -0.203119        0\n",
            "\n",
            "[100 rows x 5 columns]\n",
            "balance\n",
            "0    80\n",
            "1    80\n",
            "Name: count, dtype: int64\n"
          ]
        }
      ],
      "source": [
        "# Importing scikit-learn, pandas library\n",
        "from sklearn.utils import resample\n",
        "from sklearn.datasets import make_classification\n",
        "import pandas as pd\n",
        "\n",
        "# Making DataFrame having 100\n",
        "# dummy samples with 4 features\n",
        "# Divided in 2 classes in a ratio of 80:20\n",
        "X, y = make_classification(n_classes=2,\n",
        "                           weights=[0.8, 0.2],\n",
        "                           n_features=4,\n",
        "                           n_samples=100,\n",
        "                           random_state=42)\n",
        "\n",
        "df = pd.DataFrame(X, columns=['feature_1',\n",
        "                              'feature_2',\n",
        "                              'feature_3',\n",
        "                              'feature_4'])\n",
        "df['balance'] = y\n",
        "print(df)\n",
        "\n",
        "# Let df represent the dataset\n",
        "# Dividing majority and minority classes\n",
        "df_major = df[df.balance == 0]\n",
        "df_minor = df[df.balance == 1]\n",
        "\n",
        "# Upsampling minority class\n",
        "df_minor_sample = resample(df_minor,\n",
        "\n",
        "                           # Upsample with replacement\n",
        "                           replace=True,\n",
        "\n",
        "                           # Number to match majority class\n",
        "                           n_samples=80,\n",
        "                           random_state=42)\n",
        "\n",
        "# Combine majority and upsampled minority class\n",
        "df_sample = pd.concat([df_major, df_minor_sample])\n",
        "\n",
        "# Display count of data points in both class\n",
        "print(df_sample.balance.value_counts())\n"
      ]
    },
    {
      "cell_type": "markdown",
      "source": [
        "Explanation :\n",
        "\n",
        "Firstly, we’ll divide the data points from each class into separate DataFrames.\n",
        "\n",
        "After this, the minority class is resampled with replacement by setting the number of data points equivalent to that of the majority class.\n",
        "\n",
        "In the end, we’ll concatenate the original majority class DataFrame and up-sampled minority class DataFrame."
      ],
      "metadata": {
        "id": "bjfo1iYIHycO"
      }
    },
    {
      "cell_type": "markdown",
      "source": [
        "2. Using RandomOverSampler:\n",
        "\n",
        "Oversampling is the process of adding more copies to the minority class. When dealing with constrained data resources, this approach is helpful. Overfitting and decreased generalization performance on the test set are potential drawbacks of oversampling, though.\n",
        "\n",
        "This can be done with the help of the RandomOverSampler method present in imblearn. This function randomly generates new data points belonging to the minority class with replacement (by default)."
      ],
      "metadata": {
        "id": "uE37qPbvH72t"
      }
    },
    {
      "cell_type": "markdown",
      "source": [
        "Syntax: RandomOverSampler(sampling_strategy=’auto’, random_state=None, shrinkage=None)"
      ],
      "metadata": {
        "id": "jnrHAjm5KRiq"
      }
    },
    {
      "cell_type": "markdown",
      "source": [
        "Parameters:\n",
        "\n",
        "\n",
        "sampling_strategy: Sampling Information for dataset.Some Values are- ‘minority’: only minority class ‘not minority’: all classes except minority class, ‘not majority’: all classes except majority class, ‘all’: all classes,  ‘auto’: similar to ‘not majority’, Default value is ‘auto’\n",
        "\n",
        "random_state: Used for shuffling the data. If a positive non-zero number is given then it shuffles otherwise not. Default value is None.\n",
        "\n",
        "shrinkage: Parameter controlling the shrinkage. Values are: float: Shrinkage factor applied on all classes. dict: Every class will have a specific shrinkage factor. None: Shrinkage= 0. Default value is None."
      ],
      "metadata": {
        "id": "K5ZTQo2xKVVo"
      }
    },
    {
      "cell_type": "code",
      "source": [
        "# Importing imblearn,scikit-learn library\n",
        "from imblearn.over_sampling import RandomOverSampler\n",
        "from sklearn.datasets import make_classification\n",
        "\n",
        "# Making Dataset having 100\n",
        "# dummy samples with 4 features\n",
        "# Divided in 2 classes in a ratio of 80:20\n",
        "X, y = make_classification(n_classes=2,\n",
        "                           weights=[0.8, 0.2],\n",
        "                           n_features=4,\n",
        "                           n_samples=100,\n",
        "                           random_state=42)\n",
        "\n",
        "# Printing number of samples in\n",
        "# each class before Over-Sampling\n",
        "t = [(d) for d in y if d==0]\n",
        "s = [(d) for d in y if d==1]\n",
        "print('Before Over-Sampling: ')\n",
        "print('Samples in class 0: ',len(t))\n",
        "print('Samples in class 1: ',len(s))\n",
        "\n",
        "# Over Sampling Minority class\n",
        "OverS = RandomOverSampler(random_state=42)\n",
        "\n",
        "# Fit predictor (x variable)\n",
        "# and target (y variable) using fit_resample()\n",
        "X_Over, Y_Over = OverS.fit_resample(X, y)\n",
        "\n",
        "# Printing number of samples in\n",
        "# each class after Over-Sampling\n",
        "t = [(d) for d in Y_Over if d==0]\n",
        "s = [(d) for d in Y_Over if d==1]\n",
        "print('After Over-Sampling: ')\n",
        "print('Samples in class 0: ',len(t))\n",
        "print('Samples in class 1: ',len(s))\n"
      ],
      "metadata": {
        "colab": {
          "base_uri": "https://localhost:8080/"
        },
        "id": "MCWmGXAoHqkk",
        "outputId": "b648c223-40bc-4c8d-94dd-e433d30ce902"
      },
      "execution_count": 2,
      "outputs": [
        {
          "output_type": "stream",
          "name": "stdout",
          "text": [
            "Before Over-Sampling: \n",
            "Samples in class 0:  80\n",
            "Samples in class 1:  20\n",
            "After Over-Sampling: \n",
            "Samples in class 0:  80\n",
            "Samples in class 1:  80\n"
          ]
        }
      ]
    },
    {
      "cell_type": "code",
      "source": [
        "import imblearn"
      ],
      "metadata": {
        "id": "wAwkMFUfKgv8"
      },
      "execution_count": 3,
      "outputs": []
    },
    {
      "cell_type": "markdown",
      "source": [
        "3. Random Under-Sampling with Imblearn"
      ],
      "metadata": {
        "id": "e3XOwp94K5lk"
      }
    },
    {
      "cell_type": "markdown",
      "source": [
        "There’s a library called imblearn, which is super helpful for fixing imbalanced datasets and making your models work better.\n",
        "\n",
        "One good thing in imblearn is RandomUnderSampler. It’s a quick and simple way to even out the data by randomly choosing some data from the classes we want to balance. Basically, it grabs a bunch of samples from the majority class (or classes) in a random way."
      ],
      "metadata": {
        "id": "R8fHKOcCK8DZ"
      }
    },
    {
      "cell_type": "markdown",
      "source": [
        "Syntax: RandomUnderSampler(sampling_strategy=’auto’, random_state=None, replacement=False)\n",
        "\n",
        "\n",
        "\n",
        "Parameters:\n",
        "\n",
        "\n",
        "\n",
        "sampling_strategy: Sampling Information for dataset.\n",
        "\n",
        "random_state: Used for shuffling the data. If positive non zero number is given then it shuffles otherwise not. Default value is None.\n",
        "\n",
        "replacement: Implements resampling with or without replacement. Boolean type of value. Default value is False."
      ],
      "metadata": {
        "id": "UbgEqjLHLChs"
      }
    },
    {
      "cell_type": "code",
      "source": [
        "# Importing imblearn library\n",
        "from imblearn.under_sampling import RandomUnderSampler\n",
        "from sklearn.datasets import make_classification\n",
        "\n",
        "# Making Dataset having\n",
        "# 100 dummy samples with 4 features\n",
        "# Divided in 2 classes in a ratio of 80:20\n",
        "X, y = make_classification(n_classes=2,\n",
        "                           weights=[0.8, 0.2],\n",
        "                           n_features=4,\n",
        "                           n_samples=100,\n",
        "                           random_state=42)\n",
        "\n",
        "# Printing number of samples\n",
        "# in each class before Under-Sampling\n",
        "t = [(d) for d in y if d == 0]\n",
        "s = [(d) for d in y if d == 1]\n",
        "print('Before Under-Sampling: ')\n",
        "print('Samples in class 0: ', len(t))\n",
        "print('Samples in class 1: ', len(s))\n",
        "\n",
        "# Down-Sampling majority class\n",
        "UnderS = RandomUnderSampler(random_state=42,\n",
        "                            replacement=True)\n",
        "\n",
        "# Fit predictor (x variable)\n",
        "# and target (y variable) using fit_resample()\n",
        "X_Under, Y_Under = UnderS.fit_resample(X, y)\n",
        "\n",
        "# Printing number of samples in\n",
        "# each class after Under-Sampling\n",
        "t = [(d) for d in Y_Under if d == 0]\n",
        "s = [(d) for d in Y_Under if d == 1]\n",
        "print('After Under-Sampling: ')\n",
        "print('Samples in class 0: ', len(t))\n",
        "print('Samples in class 1: ', len(s))"
      ],
      "metadata": {
        "colab": {
          "base_uri": "https://localhost:8080/"
        },
        "id": "t2s1Qg6YK2eK",
        "outputId": "42912821-1f38-4334-d2fe-4648c58c6db6"
      },
      "execution_count": 4,
      "outputs": [
        {
          "output_type": "stream",
          "name": "stdout",
          "text": [
            "Before Under-Sampling: \n",
            "Samples in class 0:  80\n",
            "Samples in class 1:  20\n",
            "After Under-Sampling: \n",
            "Samples in class 0:  20\n",
            "Samples in class 1:  20\n"
          ]
        }
      ]
    },
    {
      "cell_type": "code",
      "source": [],
      "metadata": {
        "id": "OgS8WKZjLHSG"
      },
      "execution_count": null,
      "outputs": []
    }
  ]
}